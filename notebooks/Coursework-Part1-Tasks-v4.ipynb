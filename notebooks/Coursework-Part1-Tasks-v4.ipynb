{
    "nbformat_minor": 1, 
    "cells": [
        {
            "source": "# Coursework Part 1: Detecting Spam with Spark\n\nThese are the tasks for IN432 Big Data coursework 2018, part 1.  \n\nThis coursework is about classification of e-mail messages as spam or non-spam in Spark. We will go through the whole process from loading preprocessing to training and testing classifiers in a distributed way in Spark. We wil use the techniques shown in the lextures and labs. I will also introduce here a few additional elements, such as the NLTK and some of the preprocessing and machine learning functions that come with Spark. You are not expected to need anything beyond the material handed out so far and in some cases the Spark documentation, to which I have put links in this document.  \n\nThe structure is similar to the lab sheets. I provide a code structure with gaps that you are supposed to file. In addition you should run 2 small experiments and comment on the results. The lines where you are supposed to add code or take another action are marked with \">>>\" \nplease leave the \">>>\" in the text, comment out that line, and write your own code in the next line using a copy of that line as a starting point.\n\nI have added numerous comments in text cells and the code cells to guid you through the program. Please read them carefully and ask if anything is unclear. \n\nOnce you have completed the tasks, don't delete the outpus, but downlaod the notebook (outputs will be included) and upload it into the coursework submission area on Moodle. The coursework part counts for 25% or the total coursework.", 
            "cell_type": "markdown", 
            "metadata": {}
        }, 
        {
            "source": "## Load and prepare the data\n\nWe will use the lingspam dataset in this coursework (see [http://csmining.org/index.php/ling-spam-datasets.html](http://csmining.org/index.php/ling-spam-datasets.html) for more information).\n\nThe next cell is only needed if you haven't cloned the repository in week 2 or later (but it doesn't do harm to run it). ", 
            "cell_type": "markdown", 
            "metadata": {}
        }, 
        {
            "source": "%cd ~/notebook/work/\n!git clone https://github.com/tweyde/City-Data-Science.git", 
            "cell_type": "code", 
            "execution_count": null, 
            "outputs": [], 
            "metadata": {}
        }, 
        {
            "source": "%cd ~/notebook/work/City-Data-Science/\n!git pull\n%cd ./datasets/ \n#we need to use a magic command (starting with '%') here.\nprint(\">>> Extracting the ling_spam dataset, this can take a moment.\")\n!tar -xf lingspam_public02.tar.gz\n# '!' calls a program on the machine (the DSX service runs on Linux machines).\nprint(\">>> Unzipping finished.\")\n# We now have a new dataset in directory 'bare'.\n%cd lingspam_public/bare \nprint(\">>> pwd \")\n!pwd\nprint(\">>> ls \")\n!ls\n# the line before last of output should show \"part1 part10 part2  part3  part4  part5  part6  part7 part8 part9\"\n%cd ..", 
            "cell_type": "code", 
            "execution_count": null, 
            "outputs": [], 
            "metadata": {}
        }, 
        {
            "source": "### Tools for Troubleshooting\n\nNormally, DSX works reliably, but there are two issues that have occured. We have solutions for them that you can use with the following cells. \nIf other problems occur, reloading the page and/or restarting the Kernel can help. ", 
            "cell_type": "markdown", 
            "metadata": {}
        }, 
        {
            "source": "# try this in case of \"sc undefined\" or similar errors, should normally not be necessary.\nfrom pyspark import SparkContext\nsc = spark.sparkContext", 
            "cell_type": "code", 
            "execution_count": null, 
            "outputs": [], 
            "metadata": {}
        }, 
        {
            "source": "# sometimes, when you have multiple notebooks open at the same time, you might get an error that the metastore_db is not accessible.\n# We can not prevent this form happening on DSX (apart from not opening more than one notebook at a time).\n# If it does happen you need to delete the metastore_db. The path of the metastore_db is in the error messages and it's typically \n# lond like this example: \n# /gpfs/global_fs01/sym_shared/YPProdSpark/user/s832-dfe96c6e1f1d61-70d619a53771/notebook/jupyter-rt/kernel-cdcf5f73-9afb-481d-ac40-a210a649eb69-20180222_154448/metastore_db\n# once you have it, you can use it with !rm -Rf to delete it:\n!rm -Rf <Put the path of the metastore_db here>", 
            "cell_type": "code", 
            "execution_count": null, 
            "outputs": [], 
            "metadata": {}
        }, 
        {
            "source": "## Task 1) Read the dataset and create RDDs \na) Start by reading the directory with text files from the file system (`~/notebook/work/City-Data-Science/datasets/bare`). Load all text files per dirctory (part1,part2, ... ,part10) using `wholeTextFiles()`, which creates one RDD per part, containing tuples (filename,text). This is a good choice as the text files are small. (5%)\n\nb) We will use one of the RDDs as test set, the rest as training set. For the training set you need to create the union of the remaining RDDs. (5%)\n\nb) Remove the path and extension from the filename using the regular expression provided (5%).\n\nIf the filename starts with 'spmsg' it is spam, otherwise it is not. We'll use that later to train a classifier. \n\nWe will put the code in each cell into a function that we can reuse later. In this way we can develop the whole preprocessing with the smaller test set and apply it to the training set once we know that everything works. ", 
            "cell_type": "markdown", 
            "metadata": {}
        }, 
        {
            "source": "from pathlib import Path\nimport re\n\ndef makeTestTrainRDDs(pathString):\n    \"\"\" Takes one of the four subdirectories of the lingspam dataset and returns two RDDs one each for testing and training. \"\"\"\n    # We should see10 parts that we can use for creating train and test sets.\n    p = Path(pathString) # gets a path object representing the current directory path.\n    dirs = list(p.iterdir()) # get the directories part1 ... part10. \n    print(dirs) # Print to check that you have the right directory. You can comment this out when checked. \n    rddList = [] # create a list for the RDDs\n    # now create an RDD for each 'part' directory and add them to rddList\n    for d in dirs: # iterate through the directories\n>>>     rdd = ... #>>> # read the files in the directory \n>>>     ... #>>> append the RDD to the rddList\n    print('len(rddList)',len(rddList))  # we should now have 10 RDDs in the list # just for testing\n    print(rddList[1].take(1)) # just for testing, comment out when it works.\n    testRDD1 = rddList[9] # set the test set\n    trainRDD1 = rddList[0] # start the training set from 0 and \n    # now loop over the range from 1 to 9(exclusive) to create a union of the remaining RDDs\n    for i in range(1,9):\n        trainRDD1 = trainRDD1.union(rddList[i]) #>>> create a union of the current and the next \n            # RDD in the list, so that in the end we have a union of all parts 0-8. (9 ist used as test set)\n    # both RDDs should remove the paths and extensions from the filename. \n    #>>> This regular expression will do it: re.split('[/\\.]', fn_txt[0])[-2]\n    #>>> apply it to the filenames in train and test RDD with a lambda\n>>>    testRDD2 = testRDD1.map(lambda ...) \n>>>    trainRDD2 = trainRDD1.map(lambda ...) \n    return (trainRDD2,testRDD2)\n\n# this makes sure we are in the right directory\n%cd ~/notebook/work/City-Data-Science/datasets/lingspam_public/\n# this should show \"bare  lemm  lemm_stop  readme.txt  stop\"\n!ls\n# the code below is for testing the function makeTestTrainRDDs\ntrainRDD_testRDD = makeTestTrainRDDs('bare') # read from the 'bare' directory - this takes a bit of time\n(trainRDD,testRDD) = trainRDD_testRDD # unpack the returned tuple\nprint('created the RDDs') # notify the user, so that we can figure out where things went wrong if they do.\nprint('testRDD.count(): ',testRDD.count()) # should be 290 \n#print('trainRDD.count(): ',trainRDD.count()) # should be 2603 - commented out to save time\nprint('testRDD.getNumPartitions()',testRDD.getNumPartitions()) # normally 2 on DSX\nprint('testRDD.getStorageLevel()',testRDD.getStorageLevel()) # Serialized 1x Replicated on DSX\nprint('testRDD.take(1): ',testRDD.take(1)) # should be (filename,[tokens]) \nrdd1 = testRDD # use this for developemnt in the next tasks ", 
            "cell_type": "code", 
            "execution_count": null, 
            "outputs": [], 
            "metadata": {}
        }, 
        {
            "source": "## Task 2) Tokenize and remove punctuation\n\nNow we need to split the words, a process called *tokenization* by linguists, and remove punctuation. \n\nWe will use the Python [Natural Language Toolkit](http://www.nltk.org) *NLTK* to do the tokenization (rather than splitting ourselves, as these specialist tools usually do that we can ourselves). We use the NLTK function word_tokenize, see here for a code example: [http://www.nltk.org/book/ch03.html](http://www.nltk.org/book/ch03.html). 5%\n\nThen we will remove punctuation. There is no specific funtion for this, so we use a regular expression (see here for info [https://docs.python.org/3/library/re.html?highlight=re#module-re](https://docs.python.org/3/library/re.html?highlight=re#module-re)) in a list comprehension (here's a nice visual explanation: [http://treyhunner.com/2015/12/python-list-comprehensions-now-in-color/](http://treyhunner.com/2015/12/python-list-comprehensions-now-in-color/)). 5% \n\nWe use a new technique here: we separate keys and values of the RDD, using the RDD functions `keys()` and `values()`, which yield each a new RDD. Then we process the values and *zip* them together with the keys again. See here for documentation: [http://spark.apache.org/docs/2.1.0/api/python/pyspark.html#pyspark.RDD.zip](http://spark.apache.org/docs/2.1.0/api/python/pyspark.html#pyspark.RDD.zip).  We wrap the whole sequence into one function `prepareTokenRDD` for later use. 5%", 
            "cell_type": "markdown", 
            "metadata": {}
        }, 
        {
            "source": "import nltk\nimport re\nfrom nltk.corpus import stopwords\n\ndef tokenize(text):\n    \"\"\" Apply the nltk.word_tokenize() method to our text, return the token list. \"\"\"\n    nltk.download('punkt') # this loads the standard NLTK tokenizer model \n    # it is important that this is done here in the function, as it needs to be done on every worker.\n    # If we do the download outside a this function, it would only be executed on the driver     \n>>>    return ... # use the nltk function word_tokenize\n    \ndef removePunctuation(tokens):\n    \"\"\" Remove punctuation characters from all tokens in a provided list. \"\"\"\n    # this will remove all punctiation from string s: re.sub('[()\\[\\],.?!\";_]','',s)\n>>>    tokens2 =  [...] # use a list comprehension to remove punctuaton\n    return tokens2\n    \ndef prepareTokenRDD(fn_txt_RDD):\n    \"\"\" Take an RDD with (filename,text) elements and transform it into a (filename,[token ...]) RDD without punctuation characters. \"\"\"\n    rdd_vals2 = fn_txt_RDD.values() # It's convenient to process only the values. \n    rdd_vals3 = rdd_vals2.map(tokenize) # Create a tokenised version of the values by mapping\n    rdd_vals4 = rdd_vals3.map(removePunctuation) # remove punctuation from the values\n    rdd4 = fn_txt_RDD.keys().zip(rdd_vals4) # we zip the two RDDs together \n    # i.e. produce tuples with one itme from each RDD.\n    # This works because we have only applied mappings to the values, \n    # therefore the items in both RDDs are still aligned.\n    # now remove any empty value strings (i.e. length 0) that we may have created by removing punctiation.\n    # >>> now remove any empty strings (i.e. length 0) that we may have \n    # created by removing punctuation, and resulting entries without words left.\n    rdd5 = rdd4. # remove empty strings using RDD.map and a lambda. TIP len(s) gives you the lenght of string. \n    rdd6 = rdd5. # remove items without tokens using RDD.filter and a lambda. \n    # >>> Question: why should this be filtering done after zipping the keys and values together?\n    return rdd6 \n\nrdd2 = prepareTokenRDD(rdd1) # Use the test set for now, because it is smaller\nprint(rdd2.take(1)) # For checking result of task 2. ", 
            "cell_type": "code", 
            "execution_count": null, 
            "outputs": [], 
            "metadata": {
                "scrolled": true
            }
        }, 
        {
            "source": "## Task 3) Creating normalised TF.IDF vectors of defined dimensionality, measure the effect of caching.\n\nWe use the hashing trick to create fixed size TF vectors directly from the word list now (slightly different from the previous lab, where we used *(word,count)* pairs.). Write a bit of code as needed. (5%)\n\nThen we'll use the IDF and Normalizer functions provided by Spark. They use a slightly different pattern than RDD.map and reduce, have a look at the examples here in the documentation for Normalizer  and IDF:\n[http://spark.apache.org/docs/2.1.0/api/python/pyspark.mllib.html#pyspark.mllib.feature.Normalizer](http://spark.apache.org/docs/2.1.0/api/python/pyspark.mllib.html#pyspark.mllib.feature.Normalizer), [http://spark.apache.org/docs/2.1.0/api/python/pyspark.mllib.html#pyspark.mllib.feature.IDF](http://spark.apache.org/docs/2.1.0/api/python/pyspark.mllib.html#pyspark.mllib.feature.IDF) (5%)\n\nWe want control of the dimensionality in the `normTFIDF` function, so we introduce an argument into our functions that enables us to vary dimensionalty later. Here is also an opportunity to benefit from caching, i.e. persisting the RDD after use, so that it will not be recomputed.  (5%)", 
            "cell_type": "markdown", 
            "metadata": {}
        }, 
        {
            "source": "# use the hashing trick to create a fixed-size vector from a word list\ndef hashing_vectorize(text,N): # arguments: the list and the size of the output vector\n    v = [0] * N  # create vector of 0s\n    for word in text: # iterate through the words \n>>>              # get the hash value \n>>>              # add 1 at the hashed address \n    return v # return hashed word vector\n\nfrom pyspark.mllib.feature import IDF, Normalizer\n\ndef normTFIDF(fn_tokens_RDD, vecDim, caching=True):\n    keysRDD = fn_tokens_RDD.keys()\n    tokensRDD = fn_tokens_RDD.values()\n    tfVecRDD = tokensRDD.map(lambda tokens: hashing_vectorize(tokens,vecDim)) #>>> passing the vecDim value. TIP: you need a lambda. \n    if caching:\n        tfVecRDD.persist(StorageLevel.MEMORY_ONLY) # since we will read more than once, caching in Memory will make things quicker.\n    idf = IDF() # create IDF object\n    idfModel = idf.fit(tfVecRDD) # calculate IDF values\n    tfIdfRDD = idfModel.transform(tfVecRDD) # 2nd pass needed (see lecture slides), transforms RDD\n>>>    norm = ... # create a Normalizer object like in the example linked above\n>>>    normTfIdfRDD = norm. ... # and apply it to the tfIdfRDD \n>>>    zippedRDD = ... # zip the keys and values together\n    return zippedRDD\n\ntestDim = 10 # too small for good accuracy, but OK for testing\nrdd3 = normTFIDF(rdd2, testDim, True) # test our\nprint(rdd3.take(1)) # we should now have tuples with ('filename',[N-dim vector])\n# e.g. [('9-1142msg1', DenseVector([0.0, 0.0, 0.0, 0.0, 0.4097, 0.0, 0.0, 0.0, 0.9122, 0.0]))]", 
            "cell_type": "code", 
            "execution_count": null, 
            "outputs": [], 
            "metadata": {}
        }, 
        {
            "source": "### Task 3a) Caching experiment\n\nThe normTFIDF let's us switch caching on or off. Write a bit of code that measures the effect of caching by takes the time for both options. Use the time function as shown in lecture 3, slide 47. Remember that you need to call an action on an RDD to trigger full execution. \n\nAdd a short comment on the result (why is there an effect, why of the size that it is?). Remember that this is wall clock time, i.e. you may get noisy results. (10%)", 
            "cell_type": "markdown", 
            "metadata": {}
        }, 
        {
            "source": "#run a small experiment with caching set to True or False, 3 times each\n\nfrom time import time\n\nresCaching = [] # for storing results\nresNoCache = [] # for storing results\nfor i in range(3): # 3 samples\n>>>  # start timer\n    testRDD1 = normTFIDF(rdd2, testDim, True) # \n>>>     # call an action on the RDD to force execution\n>>>  # end timer\n    resCaching.append( endTime - startTime ) # calculate the difference\n    \n>>>  # start timer\n    testRDD2 = normTFIDF(rdd2, testDim, False) \n>>>  # call an action to force execution   \n>>>  # end timer\n    resNoCache.append( endTime - startTime )\n    \n>>> meanTimeCaching = # calculate average times\n>>> meanTimeNoCache = # calculate average times\n\nprint('Creating TF.IDF vectors, 3 trials - mean time with caching: ', meanTimeCaching, ', mean time without caching: ', meanTimeNoCache)\n>>> # add your results and comments here ", 
            "cell_type": "code", 
            "execution_count": null, 
            "outputs": [], 
            "metadata": {}
        }, 
        {
            "source": "## Task 4) Create LabeledPoints \n\nDetermine whether the file is spam (i.e. the filename contains \u2019spmsg\u2019) and replace the filename by a 1 (spam) or 0 (non-spam) accordingly. Use `RDD.map()` to create an RDD of LabeledPoint objects. See here [http://spark.apache.org/docs/2.1.0/mllib-linear-methods.html#logistic-regression](http://spark.apache.org/docs/2.1.0/mllib-linear-methods.html#logistic-regression) for an example, and here [http://spark.apache.org/docs/2.1.0/api/python/pyspark.mllib.html#pyspark.mllib.regression.LabeledPoint](http://spark.apache.org/docs/2.1.0/api/python/pyspark.mllib.html#pyspark.mllib.regression.LabeledPoint) for the `LabeledPoint` documentation. (10%)\n\nThere is a handy function of Python strings called startswith: e.g. 'abc'.startswith('ab) will return true. The relevant Python syntax here is a conditional expression: **``<a> if <yourCondition> else <b>``**, i.e. 1 if the filename starts with 'spmsg' and otherwise 0.", 
            "cell_type": "markdown", 
            "metadata": {}
        }, 
        {
            "source": "from pyspark.mllib.regression import LabeledPoint\n\n# creatate labelled points of vector size N out of an RDD with normalised (filename [(word,count), ...]) items\ndef makeLabeledPoints(fn_vec_RDD): # RDD and N needed \n    # we determine the true class as encoded in the filename and represent as 1 (samp) or 0 (good)\n>>>    cls_vec_RDD = fn_vec_RDD.map(lambda ... ) # use a conditional expression to get the class label (True or False)\n    # now we can create the LabeledPoint objects with (class,vector) arguments\n    lp_RDD = cls_vec_RDD.map(lambda cls_vec: LabeledPoint(cls_vec[0],cls_vec[1]) ) \n    return lp_RDD \n\n# for testing\ntestLpRDD = makeLabeledPoints(rdd3) \nprint(testLpRDD.take(1)) \n# should look similar to this: [LabeledPoint(0.0, [0.0,0.0,0.0,0.0,0.40968062880166006,0.0,0.0,0.0,0.9122290186048,0.0])]", 
            "cell_type": "code", 
            "execution_count": null, 
            "outputs": [], 
            "metadata": {
                "pixiedust": {
                    "displayParams": {
                        "handlerId": "tableView"
                    }
                }
            }
        }, 
        {
            "source": "## Task 5) Complete the preprocessing \n\nIt will be useful to have a single function to do the preprocessing. So integrate everything here. (5%)", 
            "cell_type": "markdown", 
            "metadata": {}
        }, 
        {
            "source": "# now we can apply the preprocessing chain to the data loaded in task 1 \n# N is for controlling the vector size\ndef preprocess(rawRDD,N):\n    \"\"\" take a (filename,text) RDD and transform into LabelledPoint objects \n        with class labels and a TF.IDF vector with N dimensions. \n    \"\"\"\n    tokenRDD = prepareTokenRDD(rawRDD) # task 2\n    tfIdfRDD = normTFIDF(tokenRDD,N) # task 3\n    lpRDD = makeLabeledPoints(tfIdfRDD) # task 4\n    return lpRDD # return RDD with LabeledPoints\n\n# and with this we can start the whole process from a directory, N is again the vector size\ndef loadAndPreprocess(directory,N):\n    \"\"\" load lingspam data from a directory and create a training and test set of preprocessed data \"\"\"\n>>>    trainRDD_testRDD = ... # read from the directory using the function created in task 1\n>>>     # unpack the returned tuple\n    return (preprocess(trainRDD,N),preprocess(testRDD,N)) # apply the preprocessing funcion defined above\n\ntrainLpRDD = preprocess(trainRDD,testDim) # prepare the training data\nprint(testLpRDD.take(1)) # should look similar to previous cell's output\n\ntrain_test_LpRDD = loadAndPreprocess('lemm',100) # let's re-run with another vector size\n(trainLpRDD,testLpRDD) = train_test_LpRDD \nprint(testLpRDD.take(1))\nprint(trainLpRDD.take(1))", 
            "cell_type": "code", 
            "execution_count": null, 
            "outputs": [], 
            "metadata": {}
        }, 
        {
            "source": "## Task 6) Train some classifiers \n\nUse the `LabeledPoint` objects to train a classifier, specifically the *LogisticRegression*, *Naive Bayes*, and *Support Vector Machine*. Calculate the accuracy of the model on the training set (again, follow this example [http://spark.apache.org/docs/2.1.0/ml-classification-regression.html#logistic-regression](http://spark.apache.org/docs/2.0.0/ml-classification-regression.html#logistic-regression) and here is the documentation for the classifiers [LogisticRegressionWithLBFGS](http://spark.apache.org/docs/2.1.0/api/python/pyspark.mllib.html#pyspark.mllib.classification.LogisticRegressionWithLBFGS), [NaiveBayes](http://spark.apache.org/docs/2.1.0/api/python/pyspark.mllib.html#pyspark.mllib.classification.NaiveBayes), [SVMWithSGD](http://spark.apache.org/docs/2.1.0/api/python/pyspark.mllib.html#pyspark.mllib.classification.SVMWithSGD).  (10%) ", 
            "cell_type": "markdown", 
            "metadata": {}
        }, 
        {
            "source": "from pyspark.mllib.classification import (NaiveBayes, LogisticRegressionWithLBFGS, SVMWithSGD) \nimport numpy\n\n# train the model with an (f,[(w,c), ...]) RDD. This is practical as we can reuse the function for TF.IDF\ndef trainModel(lpRDD):\n    \"\"\" Train 3 classifier models on the given RDD with LabeledPoint objects. A list of trained model is returned. \"\"\"\n    lpRDD.persist(StorageLevel.MEMORY_ONLY) # not really needed as the Spark implementations ensure caching themselves. \n                    # Other implementations might not, however. \n    # Train a classifier model.\n    print('Starting to train the model') # give some immediate feedback\n    model1 = LogisticRegressionWithLBFGS.train(lpRDD) # this is the best model\n    print('Trained LR (model1)')\n    #print('type(model1)')\n    model2 = NaiveBayes.train(lpRDD) # doesn't work well\n    print('Trained NB (model2)')\n    #print(type(model2))\n    model3 = SVMWithSGD.train(lpRDD) # or this ...\n    print('Trained SVM (model3)')\n    return [model1,model2,model3]\n\ndef testModel(model, lpRDD):\n    \"\"\" Tests the classificatio accuracy of the given model on the given RDD with LabeledPoint objects. \"\"\"\n    lpRDD.persist(StorageLevel.MEMORY_ONLY)\n    # Make prediction and evaluate training set accuracy.\n    # Get the prediction and the ground truth label\n    predictionAndLabel = lpRDD.map(lambda p: (model.predict(p.features), p.label)) # get the prediction and ground truth (label) for each item.\n    correct = predictionAndLabel.filter(lambda xv: xv[0] == xv[1]).count() # count the correct predictions \n>>>    accuracy = ... # and calculate the accuracy \n    print('Accuracy {:.1%} (data items: {}, correct: {})'.format(accuracy,lpRDD.count(), correct)) # report to console\n    return accuracy # and return the value  \n\nmodels = trainModel(trainLpRDD) # just for testing\ntestModel(models[2], trainLpRDD) # just for testing", 
            "cell_type": "code", 
            "execution_count": null, 
            "outputs": [], 
            "metadata": {}
        }, 
        {
            "source": "## Task 7) Automate training and testing\n\nWe automate now the whole process from reading the files, through preprocessing, and training up to evaluating the models. In the end we have a single function that takes all the parameters we are interested in and produces trained models and an evaluation. (5%) ", 
            "cell_type": "markdown", 
            "metadata": {}
        }, 
        {
            "source": "# this function combines tasks f) and g)\n# this method should take RDDs with (f,[(w,c), ...])\ndef trainTestModel(trainRDD,testRDD):\n    \"\"\" Trains 3 models and tests them on training and test data. Returns a matrix the training and testing (rows) accuracy values for all models (columns). \"\"\"\n>>> models = ... # train models on the training set\n    results = [[],[]] # matrix for 2 modes (training/test) vs n models (currently 3)\n    for mdl in models:\n        print('Training')\n>>>     results[0].append(...) # test the model on the training set\n        print('Testing')\n>>>     results[1].append(...) # test the model on the test set\n    return results\n\ndef trainTestFolder(folder,N):\n    \"\"\" Reads data from a folder, preproceses the data, and trains and evaluates models on it. \"\"\"\n    print('Start loading and preprocessing') \n    train_test_LpRDD = loadAndPreprocess(folder,N) # create the RDDs\n    print('Finished loading and preprocessing')\n    (trainLpRDD,testLpRDD) = train_test_LpRDD # unpack the RDDs \n    return trainTestModel(trainLpRDD,testLpRDD) # train and test\n\ntrainTestFolder('lemm',1000) ", 
            "cell_type": "code", 
            "execution_count": null, 
            "outputs": [], 
            "metadata": {}
        }, 
        {
            "source": "## Task 8) Run experiments \n\nWe have now a single function that allows us to vary the vector size easily. Test vector sizes 5, 50, 500, 5000, 50000 and examine the effect on the classification accuracy in Experiment 1.\n\nUse the function from Task 7) to test different data types. The dataset has raw text in folder `bare`, lemmatised text in  `lemm` (similar to stemming, reduces to basic word forms), `stop` (with stopwords removed), and `lemm_stop` (lemmatised and stopwords removed). Test how the classification accuracy differs for these four data types in Experiment 2. Collect the results in a data structure that can be saved for later saving and analyis.\n\nComment on the results in a few sentences, considering the differences in performance between the different conditions as well as train an test values. 15%", 
            "cell_type": "markdown", 
            "metadata": {}
        }, 
        {
            "source": "from pyspark.sql import DataFrame\n\nfolder = 'bare'\nN = numpy.array([3,30,300,3000,30000]) \nprint('\\nEXPERIMENT 1: Testing different vector sizes')\nresults = []\nfor n in N:\n    print('N = {}'.format(n))\n    ... = trainTestFolder(folder,n)\n    \nn = 3000\ntypeFolders = ['bare','stop','lemm','lemm_stop']\nprint('EXPERIMENT 2: Testing different data types')\nfor folder in typeFolders:\n    print('Path = {}'.format(folder))\n    ... = trainTestFolder(folder,n)\n\n# Add comments on the performance in a cell below. ", 
            "cell_type": "code", 
            "execution_count": null, 
            "outputs": [], 
            "metadata": {
                "scrolled": false
            }
        }, 
        {
            "source": "", 
            "cell_type": "markdown", 
            "metadata": {}
        }
    ], 
    "nbformat": 4, 
    "metadata": {
        "kernelspec": {
            "display_name": "Python 3.5 with Spark 2.1", 
            "name": "python3-spark21", 
            "language": "python"
        }, 
        "language_info": {
            "mimetype": "text/x-python", 
            "nbconvert_exporter": "python", 
            "version": "3.5.4", 
            "name": "python", 
            "pygments_lexer": "ipython3", 
            "file_extension": ".py", 
            "codemirror_mode": {
                "version": 3, 
                "name": "ipython"
            }
        }
    }
}